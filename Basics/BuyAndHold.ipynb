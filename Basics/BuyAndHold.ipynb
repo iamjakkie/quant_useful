{
 "cells": [
  {
   "cell_type": "code",
   "execution_count": 4,
   "id": "57a70af5",
   "metadata": {},
   "outputs": [],
   "source": [
    "import pandas as pd\n",
    "import matplotlib.pyplot as plt"
   ]
  },
  {
   "cell_type": "code",
   "execution_count": 2,
   "id": "b287f9ad",
   "metadata": {},
   "outputs": [],
   "source": [
    "def read_df(**kwargs):\n",
    "    pass\n",
    "\n",
    "dailyStocksData = read_df"
   ]
  },
  {
   "cell_type": "markdown",
   "id": "1243a20e",
   "metadata": {},
   "source": [
    "### Convert daily to monthly"
   ]
  },
  {
   "cell_type": "code",
   "execution_count": null,
   "id": "5db9654f",
   "metadata": {},
   "outputs": [],
   "source": [
    "monthlyStocksData = dailyStocksData.asfreq('M').dropna()"
   ]
  },
  {
   "cell_type": "markdown",
   "id": "2c0f3f56",
   "metadata": {},
   "source": [
    "### Calculate monthly returns"
   ]
  },
  {
   "cell_type": "code",
   "execution_count": null,
   "id": "21d2a3a9",
   "metadata": {},
   "outputs": [],
   "source": [
    "monthlyPercentChange = monthlyStocksData.pct_change.dropna()"
   ]
  },
  {
   "cell_type": "markdown",
   "id": "3dd9036d",
   "metadata": {},
   "source": [
    "### Portfolio returns"
   ]
  },
  {
   "cell_type": "code",
   "execution_count": null,
   "id": "9ef95bf0",
   "metadata": {},
   "outputs": [],
   "source": [
    "portfolioReturns = monthlyPercentChange.mean(axis=1)\n",
    "cumPortfolioReturns = portfolioReturns+1.cumprod()"
   ]
  },
  {
   "cell_type": "code",
   "execution_count": null,
   "id": "cb52f7de",
   "metadata": {},
   "outputs": [],
   "source": []
  },
  {
   "cell_type": "code",
   "execution_count": null,
   "id": "81a13adb",
   "metadata": {},
   "outputs": [],
   "source": [
    "def plotReturns(cumulativeReturns):\n",
    "    "
   ]
  }
 ],
 "metadata": {
  "kernelspec": {
   "display_name": "Python 3",
   "language": "python",
   "name": "python3"
  },
  "language_info": {
   "codemirror_mode": {
    "name": "ipython",
    "version": 3
   },
   "file_extension": ".py",
   "mimetype": "text/x-python",
   "name": "python",
   "nbconvert_exporter": "python",
   "pygments_lexer": "ipython3",
   "version": "3.6.15"
  }
 },
 "nbformat": 4,
 "nbformat_minor": 5
}
