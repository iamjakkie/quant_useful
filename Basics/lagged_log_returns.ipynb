{
 "cells": [
  {
   "cell_type": "code",
   "execution_count": null,
   "metadata": {},
   "outputs": [],
   "source": [
    "def calculate_log_returns(df, col):\n",
    "    lags = 0\n",
    "    df[\"ret\"] = np.log(df[col]/df[col].shift())\n",
    "    df[\"ret_lag\"] = np.sign(df[\"ret\"].shift(lags))"
   ]
  }
 ],
 "metadata": {
  "language_info": {
   "name": "python"
  },
  "orig_nbformat": 4
 },
 "nbformat": 4,
 "nbformat_minor": 2
}
