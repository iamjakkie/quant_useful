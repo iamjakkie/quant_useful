{
 "cells": [
  {
   "cell_type": "code",
   "execution_count": null,
   "metadata": {},
   "outputs": [],
   "source": [
    "from sklearn.svm import SVC\n",
    "def example(df, col):\n",
    "    model = SVC(gamma=\"auto\")\n",
    "    model.fit(df[cols], np.sign(df[\"ret\"]))\n",
    "\n",
    "    df[\"pred\"] = model.predict(df[cols])\n",
    "    df[\"strat\"] = df[\"pred\"]*df[\"ret\"]\n",
    "    # this shows passive buy and hold\n",
    "    df[[\"ret\", \"strat\"]].cumsum().apply(np.exp).plot(figsize=(10,6))"
   ]
  }
 ],
 "metadata": {
  "language_info": {
   "name": "python"
  },
  "orig_nbformat": 4
 },
 "nbformat": 4,
 "nbformat_minor": 2
}
