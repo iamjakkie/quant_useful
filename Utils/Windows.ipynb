{
 "cells": [
  {
   "cell_type": "code",
   "execution_count": 1,
   "id": "52b01bb5",
   "metadata": {},
   "outputs": [
    {
     "data": {
      "text/plain": [
       "2020-01-01     0\n",
       "2020-01-02     1\n",
       "2020-01-03     2\n",
       "2020-01-04     3\n",
       "2020-01-05     4\n",
       "2020-01-06     5\n",
       "2020-01-07     6\n",
       "2020-01-08     7\n",
       "2020-01-09     8\n",
       "2020-01-10     9\n",
       "2020-01-11    10\n",
       "Freq: D, dtype: int64"
      ]
     },
     "execution_count": 1,
     "metadata": {},
     "output_type": "execute_result"
    }
   ],
   "source": [
    "import numpy as np\n",
    "import pandas as pd\n",
    "from datetime import datetime\n",
    "\n",
    "dates = pd.date_range(datetime.strptime('1/1/2020', '%m/%d/%Y'), periods=11, freq='D')\n",
    "close_prices = np.arange(len(dates))\n",
    "\n",
    "close = pd.Series(close_prices, dates)\n",
    "close"
   ]
  },
  {
   "cell_type": "code",
   "execution_count": 2,
   "id": "346f14cb",
   "metadata": {},
   "outputs": [
    {
     "data": {
      "text/plain": [
       "Rolling [window=3,center=False,axis=0,method=single]"
      ]
     },
     "execution_count": 2,
     "metadata": {},
     "output_type": "execute_result"
    }
   ],
   "source": [
    "close.rolling(window=3)"
   ]
  },
  {
   "cell_type": "code",
   "execution_count": 3,
   "id": "6773d763",
   "metadata": {},
   "outputs": [
    {
     "data": {
      "text/plain": [
       "2020-01-01     NaN\n",
       "2020-01-02     NaN\n",
       "2020-01-03     3.0\n",
       "2020-01-04     6.0\n",
       "2020-01-05     9.0\n",
       "2020-01-06    12.0\n",
       "2020-01-07    15.0\n",
       "2020-01-08    18.0\n",
       "2020-01-09    21.0\n",
       "2020-01-10    24.0\n",
       "2020-01-11    27.0\n",
       "Freq: D, dtype: float64"
      ]
     },
     "execution_count": 3,
     "metadata": {},
     "output_type": "execute_result"
    }
   ],
   "source": [
    "close.rolling(window=3).sum()"
   ]
  },
  {
   "cell_type": "code",
   "execution_count": 4,
   "id": "45b3baa2",
   "metadata": {},
   "outputs": [
    {
     "data": {
      "text/plain": [
       "2020-01-01    NaN\n",
       "2020-01-02    NaN\n",
       "2020-01-03    0.0\n",
       "2020-01-04    1.0\n",
       "2020-01-05    2.0\n",
       "2020-01-06    3.0\n",
       "2020-01-07    4.0\n",
       "2020-01-08    5.0\n",
       "2020-01-09    6.0\n",
       "2020-01-10    7.0\n",
       "2020-01-11    8.0\n",
       "Freq: D, dtype: float64"
      ]
     },
     "execution_count": 4,
     "metadata": {},
     "output_type": "execute_result"
    }
   ],
   "source": [
    "close.rolling(window=3).min()"
   ]
  },
  {
   "cell_type": "markdown",
   "id": "80c82196",
   "metadata": {},
   "source": [
    "# Moving avg"
   ]
  },
  {
   "cell_type": "code",
   "execution_count": null,
   "id": "4024b34a",
   "metadata": {},
   "outputs": [],
   "source": [
    "def calculate_moving_avg(rolling_window, close):\n",
    "    return close.rolling(rolling_window).mean()"
   ]
  }
 ],
 "metadata": {
  "kernelspec": {
   "display_name": "Python 3 (ipykernel)",
   "language": "python",
   "name": "python3"
  },
  "language_info": {
   "codemirror_mode": {
    "name": "ipython",
    "version": 3
   },
   "file_extension": ".py",
   "mimetype": "text/x-python",
   "name": "python",
   "nbconvert_exporter": "python",
   "pygments_lexer": "ipython3",
   "version": "3.8.11"
  }
 },
 "nbformat": 4,
 "nbformat_minor": 5
}
